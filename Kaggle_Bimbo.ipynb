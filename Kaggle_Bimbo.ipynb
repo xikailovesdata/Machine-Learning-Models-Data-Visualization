{
 "cells": [
  {
   "cell_type": "code",
   "execution_count": 1,
   "metadata": {
    "collapsed": true
   },
   "outputs": [],
   "source": [
    "import os \n",
    "\n",
    "import pandas as pd\n",
    "import numpy as np\n",
    "import feather\n",
    "\n"
   ]
  },
  {
   "cell_type": "code",
   "execution_count": 2,
   "metadata": {
    "collapsed": true
   },
   "outputs": [],
   "source": [
    "fp = os.getcwd().replace('Models','')\n"
   ]
  },
  {
   "cell_type": "code",
   "execution_count": 3,
   "metadata": {
    "collapsed": false
   },
   "outputs": [],
   "source": [
    "train=feather.read_dataframe(fp + 'data/train.feather')\n"
   ]
  },
  {
   "cell_type": "code",
   "execution_count": 5,
   "metadata": {
    "collapsed": true
   },
   "outputs": [],
   "source": [
    "test=feather.read_dataframe(fp + 'data/test.feather')\n"
   ]
  },
  {
   "cell_type": "code",
   "execution_count": 8,
   "metadata": {
    "collapsed": true
   },
   "outputs": [],
   "source": [
    "import datetime\n",
    "import time\n",
    "from collections import defaultdict\n",
    "import gc\n",
    "import numpy as np"
   ]
  },
  {
   "cell_type": "code",
   "execution_count": 9,
   "metadata": {
    "collapsed": true
   },
   "outputs": [],
   "source": [
    "# #transform target variable to log(1 + demand)  \n",
    "\n",
    "train['Demanda_uni_equil']=np.log1p(train['Demanda_uni_equil'])"
   ]
  },
  {
   "cell_type": "code",
   "execution_count": 10,
   "metadata": {
    "collapsed": true
   },
   "outputs": [],
   "source": [
    "cpa_arr = defaultdict(int)\n",
    "cpa_count = defaultdict(int)\n",
    "pr_arr = defaultdict(int)\n",
    "pr_count = defaultdict(int)\n",
    "product_arr = defaultdict(int)\n",
    "product_count = defaultdict(int)"
   ]
  },
  {
   "cell_type": "code",
   "execution_count": 11,
   "metadata": {
    "collapsed": true
   },
   "outputs": [],
   "source": [
    "week=train['Semana'].values\n",
    "agency=train['Agencia_ID'].values\n",
    "canal_id=train['Canal_ID'].values\n",
    "ruta_sak=train['Ruta_SAK'].values\n",
    "cliente_id=train['Cliente_ID'].values\n",
    "producto_id=train['Producto_ID'].values\n",
    "vuh=train['Venta_uni_hoy'].values\n",
    "vh=train['Venta_hoy'].values\n",
    "dup=train['Dev_uni_proxima'].values\n",
    "dp = train['Dev_proxima'].values\n",
    "target=train['Demanda_uni_equil'].values"
   ]
  },
  {
   "cell_type": "code",
   "execution_count": 12,
   "metadata": {
    "collapsed": true
   },
   "outputs": [],
   "source": [
    "zip_cpa=zip(cliente_id,producto_id,agency)"
   ]
  },
  {
   "cell_type": "code",
   "execution_count": 13,
   "metadata": {
    "collapsed": true
   },
   "outputs": [],
   "source": [
    "zip_pr=zip(producto_id,ruta_sak)"
   ]
  },
  {
   "cell_type": "code",
   "execution_count": 14,
   "metadata": {
    "collapsed": false
   },
   "outputs": [
    {
     "name": "stdout",
     "output_type": "stream",
     "text": [
      "74180464\n"
     ]
    }
   ],
   "source": [
    "avg_target= 0.0\n",
    "total=len(target)\n",
    "print len(target)\n",
    "for i in range(len(target)):\n",
    "    \n",
    "    cpa_arr[zip_cpa[i]]+=target[i]\n",
    "    pr_arr[zip_pr[i]] +=target[i]\n",
    "    product_arr[producto_id[i]] += target[i]\n",
    "     \n",
    "    \n",
    "    cpa_count[zip_cpa[i]]+=1\n",
    "    pr_count[zip_pr[i]] +=1\n",
    "    product_count[producto_id[i]] +=1\n",
    "    avg_target += target[i]\n",
    "\n",
    "     "
   ]
  },
  {
   "cell_type": "code",
   "execution_count": 15,
   "metadata": {
    "collapsed": true
   },
   "outputs": [],
   "source": [
    "avg_target/=total\n",
    "mylist=[]"
   ]
  },
  {
   "cell_type": "code",
   "execution_count": 16,
   "metadata": {
    "collapsed": true
   },
   "outputs": [],
   "source": [
    "for row in test.itertuples():\n",
    "    \n",
    "    cpa_test=(row[6],row[7],row[3])\n",
    "    pr_test=(row[7],row[5])\n",
    "    product_test=row[7]\n",
    " \n",
    "    if cpa_test in cpa_arr:\n",
    "        value=cpa_arr[cpa_test]/cpa_count[cpa_test]\n",
    "    elif pr_test in pr_arr:\n",
    "        value=pr_arr[pr_test]/pr_count[pr_test]\n",
    "    elif product_test in product_arr:\n",
    "        value=product_arr[product_test]/product_count[product_test]\n",
    "    else:\n",
    "        value=avg_target\n",
    "    mylist.append(value)"
   ]
  },
  {
   "cell_type": "code",
   "execution_count": 25,
   "metadata": {
    "collapsed": true
   },
   "outputs": [],
   "source": [
    "mylist_exp=np.expm1(mylist)"
   ]
  },
  {
   "cell_type": "code",
   "execution_count": 26,
   "metadata": {
    "collapsed": true
   },
   "outputs": [],
   "source": [
    "submission = test.drop(['Semana','Agencia_ID','Canal_ID','Ruta_SAK','Cliente_ID','Producto_ID'],1)"
   ]
  },
  {
   "cell_type": "code",
   "execution_count": 27,
   "metadata": {
    "collapsed": true
   },
   "outputs": [],
   "source": [
    "submission['Demanda_uni_equil']=mylist_exp"
   ]
  },
  {
   "cell_type": "code",
   "execution_count": 29,
   "metadata": {
    "collapsed": true
   },
   "outputs": [],
   "source": [
    "submission['Demanda_uni_equil']=submission['Demanda_uni_equil']*0.9"
   ]
  },
  {
   "cell_type": "code",
   "execution_count": 30,
   "metadata": {
    "collapsed": true
   },
   "outputs": [],
   "source": [
    "submission.to_csv('submission710_1933.csv',index=False)"
   ]
  },
  {
   "cell_type": "code",
   "execution_count": 32,
   "metadata": {
    "collapsed": false
   },
   "outputs": [
    {
     "data": {
      "text/html": [
       "<div>\n",
       "<table border=\"1\" class=\"dataframe\">\n",
       "  <thead>\n",
       "    <tr style=\"text-align: right;\">\n",
       "      <th></th>\n",
       "      <th>id</th>\n",
       "      <th>Demanda_uni_equil</th>\n",
       "    </tr>\n",
       "  </thead>\n",
       "  <tbody>\n",
       "    <tr>\n",
       "      <th>0</th>\n",
       "      <td>0</td>\n",
       "      <td>3.600000</td>\n",
       "    </tr>\n",
       "    <tr>\n",
       "      <th>1</th>\n",
       "      <td>1</td>\n",
       "      <td>1.562350</td>\n",
       "    </tr>\n",
       "    <tr>\n",
       "      <th>2</th>\n",
       "      <td>2</td>\n",
       "      <td>1.800000</td>\n",
       "    </tr>\n",
       "    <tr>\n",
       "      <th>3</th>\n",
       "      <td>3</td>\n",
       "      <td>1.696673</td>\n",
       "    </tr>\n",
       "    <tr>\n",
       "      <th>4</th>\n",
       "      <td>4</td>\n",
       "      <td>2.438058</td>\n",
       "    </tr>\n",
       "    <tr>\n",
       "      <th>5</th>\n",
       "      <td>5</td>\n",
       "      <td>2.977982</td>\n",
       "    </tr>\n",
       "    <tr>\n",
       "      <th>6</th>\n",
       "      <td>6</td>\n",
       "      <td>1.160486</td>\n",
       "    </tr>\n",
       "    <tr>\n",
       "      <th>7</th>\n",
       "      <td>7</td>\n",
       "      <td>5.073316</td>\n",
       "    </tr>\n",
       "    <tr>\n",
       "      <th>8</th>\n",
       "      <td>8</td>\n",
       "      <td>5.161710</td>\n",
       "    </tr>\n",
       "    <tr>\n",
       "      <th>9</th>\n",
       "      <td>9</td>\n",
       "      <td>5.445591</td>\n",
       "    </tr>\n",
       "    <tr>\n",
       "      <th>10</th>\n",
       "      <td>10</td>\n",
       "      <td>7.613376</td>\n",
       "    </tr>\n",
       "    <tr>\n",
       "      <th>11</th>\n",
       "      <td>11</td>\n",
       "      <td>1.800000</td>\n",
       "    </tr>\n",
       "    <tr>\n",
       "      <th>12</th>\n",
       "      <td>12</td>\n",
       "      <td>3.689118</td>\n",
       "    </tr>\n",
       "    <tr>\n",
       "      <th>13</th>\n",
       "      <td>13</td>\n",
       "      <td>8.021430</td>\n",
       "    </tr>\n",
       "    <tr>\n",
       "      <th>14</th>\n",
       "      <td>14</td>\n",
       "      <td>2.020808</td>\n",
       "    </tr>\n",
       "    <tr>\n",
       "      <th>15</th>\n",
       "      <td>15</td>\n",
       "      <td>4.107768</td>\n",
       "    </tr>\n",
       "    <tr>\n",
       "      <th>16</th>\n",
       "      <td>16</td>\n",
       "      <td>1.505040</td>\n",
       "    </tr>\n",
       "    <tr>\n",
       "      <th>17</th>\n",
       "      <td>17</td>\n",
       "      <td>1.896509</td>\n",
       "    </tr>\n",
       "    <tr>\n",
       "      <th>18</th>\n",
       "      <td>18</td>\n",
       "      <td>1.304541</td>\n",
       "    </tr>\n",
       "    <tr>\n",
       "      <th>19</th>\n",
       "      <td>19</td>\n",
       "      <td>3.600000</td>\n",
       "    </tr>\n",
       "    <tr>\n",
       "      <th>20</th>\n",
       "      <td>20</td>\n",
       "      <td>5.367608</td>\n",
       "    </tr>\n",
       "    <tr>\n",
       "      <th>21</th>\n",
       "      <td>21</td>\n",
       "      <td>10.055755</td>\n",
       "    </tr>\n",
       "    <tr>\n",
       "      <th>22</th>\n",
       "      <td>22</td>\n",
       "      <td>9.734406</td>\n",
       "    </tr>\n",
       "    <tr>\n",
       "      <th>23</th>\n",
       "      <td>23</td>\n",
       "      <td>1.464528</td>\n",
       "    </tr>\n",
       "    <tr>\n",
       "      <th>24</th>\n",
       "      <td>24</td>\n",
       "      <td>0.900000</td>\n",
       "    </tr>\n",
       "    <tr>\n",
       "      <th>25</th>\n",
       "      <td>25</td>\n",
       "      <td>6.547779</td>\n",
       "    </tr>\n",
       "    <tr>\n",
       "      <th>26</th>\n",
       "      <td>26</td>\n",
       "      <td>2.296847</td>\n",
       "    </tr>\n",
       "    <tr>\n",
       "      <th>27</th>\n",
       "      <td>27</td>\n",
       "      <td>4.580925</td>\n",
       "    </tr>\n",
       "    <tr>\n",
       "      <th>28</th>\n",
       "      <td>28</td>\n",
       "      <td>0.900000</td>\n",
       "    </tr>\n",
       "    <tr>\n",
       "      <th>29</th>\n",
       "      <td>29</td>\n",
       "      <td>0.900000</td>\n",
       "    </tr>\n",
       "    <tr>\n",
       "      <th>...</th>\n",
       "      <td>...</td>\n",
       "      <td>...</td>\n",
       "    </tr>\n",
       "    <tr>\n",
       "      <th>6999221</th>\n",
       "      <td>6999221</td>\n",
       "      <td>2.652571</td>\n",
       "    </tr>\n",
       "    <tr>\n",
       "      <th>6999222</th>\n",
       "      <td>6999222</td>\n",
       "      <td>2.437013</td>\n",
       "    </tr>\n",
       "    <tr>\n",
       "      <th>6999223</th>\n",
       "      <td>6999223</td>\n",
       "      <td>4.045139</td>\n",
       "    </tr>\n",
       "    <tr>\n",
       "      <th>6999224</th>\n",
       "      <td>6999224</td>\n",
       "      <td>1.304541</td>\n",
       "    </tr>\n",
       "    <tr>\n",
       "      <th>6999225</th>\n",
       "      <td>6999225</td>\n",
       "      <td>11.169694</td>\n",
       "    </tr>\n",
       "    <tr>\n",
       "      <th>6999226</th>\n",
       "      <td>6999226</td>\n",
       "      <td>2.994074</td>\n",
       "    </tr>\n",
       "    <tr>\n",
       "      <th>6999227</th>\n",
       "      <td>6999227</td>\n",
       "      <td>5.644611</td>\n",
       "    </tr>\n",
       "    <tr>\n",
       "      <th>6999228</th>\n",
       "      <td>6999228</td>\n",
       "      <td>2.178629</td>\n",
       "    </tr>\n",
       "    <tr>\n",
       "      <th>6999229</th>\n",
       "      <td>6999229</td>\n",
       "      <td>2.808256</td>\n",
       "    </tr>\n",
       "    <tr>\n",
       "      <th>6999230</th>\n",
       "      <td>6999230</td>\n",
       "      <td>64.532013</td>\n",
       "    </tr>\n",
       "    <tr>\n",
       "      <th>6999231</th>\n",
       "      <td>6999231</td>\n",
       "      <td>1.800000</td>\n",
       "    </tr>\n",
       "    <tr>\n",
       "      <th>6999232</th>\n",
       "      <td>6999232</td>\n",
       "      <td>2.623381</td>\n",
       "    </tr>\n",
       "    <tr>\n",
       "      <th>6999233</th>\n",
       "      <td>6999233</td>\n",
       "      <td>1.479393</td>\n",
       "    </tr>\n",
       "    <tr>\n",
       "      <th>6999234</th>\n",
       "      <td>6999234</td>\n",
       "      <td>1.148373</td>\n",
       "    </tr>\n",
       "    <tr>\n",
       "      <th>6999235</th>\n",
       "      <td>6999235</td>\n",
       "      <td>5.219611</td>\n",
       "    </tr>\n",
       "    <tr>\n",
       "      <th>6999236</th>\n",
       "      <td>6999236</td>\n",
       "      <td>1.571778</td>\n",
       "    </tr>\n",
       "    <tr>\n",
       "      <th>6999237</th>\n",
       "      <td>6999237</td>\n",
       "      <td>2.734334</td>\n",
       "    </tr>\n",
       "    <tr>\n",
       "      <th>6999238</th>\n",
       "      <td>6999238</td>\n",
       "      <td>5.400000</td>\n",
       "    </tr>\n",
       "    <tr>\n",
       "      <th>6999239</th>\n",
       "      <td>6999239</td>\n",
       "      <td>5.586746</td>\n",
       "    </tr>\n",
       "    <tr>\n",
       "      <th>6999240</th>\n",
       "      <td>6999240</td>\n",
       "      <td>0.900000</td>\n",
       "    </tr>\n",
       "    <tr>\n",
       "      <th>6999241</th>\n",
       "      <td>6999241</td>\n",
       "      <td>0.900000</td>\n",
       "    </tr>\n",
       "    <tr>\n",
       "      <th>6999242</th>\n",
       "      <td>6999242</td>\n",
       "      <td>1.331457</td>\n",
       "    </tr>\n",
       "    <tr>\n",
       "      <th>6999243</th>\n",
       "      <td>6999243</td>\n",
       "      <td>7.200000</td>\n",
       "    </tr>\n",
       "    <tr>\n",
       "      <th>6999244</th>\n",
       "      <td>6999244</td>\n",
       "      <td>40.777435</td>\n",
       "    </tr>\n",
       "    <tr>\n",
       "      <th>6999245</th>\n",
       "      <td>6999245</td>\n",
       "      <td>7.542748</td>\n",
       "    </tr>\n",
       "    <tr>\n",
       "      <th>6999246</th>\n",
       "      <td>6999246</td>\n",
       "      <td>2.217691</td>\n",
       "    </tr>\n",
       "    <tr>\n",
       "      <th>6999247</th>\n",
       "      <td>6999247</td>\n",
       "      <td>1.675744</td>\n",
       "    </tr>\n",
       "    <tr>\n",
       "      <th>6999248</th>\n",
       "      <td>6999248</td>\n",
       "      <td>2.653831</td>\n",
       "    </tr>\n",
       "    <tr>\n",
       "      <th>6999249</th>\n",
       "      <td>6999249</td>\n",
       "      <td>2.217691</td>\n",
       "    </tr>\n",
       "    <tr>\n",
       "      <th>6999250</th>\n",
       "      <td>6999250</td>\n",
       "      <td>0.372792</td>\n",
       "    </tr>\n",
       "  </tbody>\n",
       "</table>\n",
       "<p>6999251 rows × 2 columns</p>\n",
       "</div>"
      ],
      "text/plain": [
       "              id  Demanda_uni_equil\n",
       "0              0           3.600000\n",
       "1              1           1.562350\n",
       "2              2           1.800000\n",
       "3              3           1.696673\n",
       "4              4           2.438058\n",
       "5              5           2.977982\n",
       "6              6           1.160486\n",
       "7              7           5.073316\n",
       "8              8           5.161710\n",
       "9              9           5.445591\n",
       "10            10           7.613376\n",
       "11            11           1.800000\n",
       "12            12           3.689118\n",
       "13            13           8.021430\n",
       "14            14           2.020808\n",
       "15            15           4.107768\n",
       "16            16           1.505040\n",
       "17            17           1.896509\n",
       "18            18           1.304541\n",
       "19            19           3.600000\n",
       "20            20           5.367608\n",
       "21            21          10.055755\n",
       "22            22           9.734406\n",
       "23            23           1.464528\n",
       "24            24           0.900000\n",
       "25            25           6.547779\n",
       "26            26           2.296847\n",
       "27            27           4.580925\n",
       "28            28           0.900000\n",
       "29            29           0.900000\n",
       "...          ...                ...\n",
       "6999221  6999221           2.652571\n",
       "6999222  6999222           2.437013\n",
       "6999223  6999223           4.045139\n",
       "6999224  6999224           1.304541\n",
       "6999225  6999225          11.169694\n",
       "6999226  6999226           2.994074\n",
       "6999227  6999227           5.644611\n",
       "6999228  6999228           2.178629\n",
       "6999229  6999229           2.808256\n",
       "6999230  6999230          64.532013\n",
       "6999231  6999231           1.800000\n",
       "6999232  6999232           2.623381\n",
       "6999233  6999233           1.479393\n",
       "6999234  6999234           1.148373\n",
       "6999235  6999235           5.219611\n",
       "6999236  6999236           1.571778\n",
       "6999237  6999237           2.734334\n",
       "6999238  6999238           5.400000\n",
       "6999239  6999239           5.586746\n",
       "6999240  6999240           0.900000\n",
       "6999241  6999241           0.900000\n",
       "6999242  6999242           1.331457\n",
       "6999243  6999243           7.200000\n",
       "6999244  6999244          40.777435\n",
       "6999245  6999245           7.542748\n",
       "6999246  6999246           2.217691\n",
       "6999247  6999247           1.675744\n",
       "6999248  6999248           2.653831\n",
       "6999249  6999249           2.217691\n",
       "6999250  6999250           0.372792\n",
       "\n",
       "[6999251 rows x 2 columns]"
      ]
     },
     "execution_count": 32,
     "metadata": {},
     "output_type": "execute_result"
    }
   ],
   "source": [
    "submission"
   ]
  },
  {
   "cell_type": "code",
   "execution_count": null,
   "metadata": {
    "collapsed": true
   },
   "outputs": [],
   "source": []
  }
 ],
 "metadata": {
  "kernelspec": {
   "display_name": "Python 2",
   "language": "python",
   "name": "python2"
  },
  "language_info": {
   "codemirror_mode": {
    "name": "ipython",
    "version": 2
   },
   "file_extension": ".py",
   "mimetype": "text/x-python",
   "name": "python",
   "nbconvert_exporter": "python",
   "pygments_lexer": "ipython2",
   "version": "2.7.11"
  }
 },
 "nbformat": 4,
 "nbformat_minor": 0
}
